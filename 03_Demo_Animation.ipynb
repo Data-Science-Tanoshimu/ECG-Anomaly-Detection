{
 "cells": [
  {
   "cell_type": "code",
   "execution_count": 1,
   "metadata": {},
   "outputs": [],
   "source": [
    "#%matplotlib nbagg\n",
    "%matplotlib inline\n",
    "\n",
    "import pandas as pd\n",
    "import numpy as np\n",
    "import matplotlib.pyplot as plt\n",
    "import warnings\n",
    "import pickle\n",
    "from matplotlib import animation\n",
    "\n",
    "from sklearn.neighbors import NearestNeighbors\n",
    "from sklearn.preprocessing import StandardScaler"
   ]
  },
  {
   "cell_type": "markdown",
   "metadata": {},
   "source": [
    "### Prepare data"
   ]
  },
  {
   "cell_type": "code",
   "execution_count": 2,
   "metadata": {},
   "outputs": [],
   "source": [
    "train = pd.read_csv('../data/train.csv')\n",
    "test = pd.read_csv('../data/test_01.csv')"
   ]
  },
  {
   "cell_type": "code",
   "execution_count": 3,
   "metadata": {},
   "outputs": [],
   "source": [
    "sc = StandardScaler()"
   ]
  },
  {
   "cell_type": "code",
   "execution_count": 4,
   "metadata": {},
   "outputs": [],
   "source": [
    "train['ecg'] = sc.fit_transform(train[['ecg']])\n",
    "test['ecg'] = sc.transform(test[['ecg']])"
   ]
  },
  {
   "cell_type": "code",
   "execution_count": 5,
   "metadata": {},
   "outputs": [],
   "source": [
    "# load a model\n",
    "with open('../model/knn_model.pickle', 'rb') as f:\n",
    "    model = pickle.load(f)"
   ]
  },
  {
   "cell_type": "code",
   "execution_count": 6,
   "metadata": {},
   "outputs": [],
   "source": [
    "# a function to create vectors with a window size using sliding window\n",
    "def embed(data, window_size):\n",
    "    vector_list = []\n",
    "    for i in range(data.size - window_size + 1):\n",
    "        tmp = data.tolist()[i:i+window_size]\n",
    "        vector_list.append(tmp)\n",
    "\n",
    "    return vector_list"
   ]
  },
  {
   "cell_type": "code",
   "execution_count": 7,
   "metadata": {},
   "outputs": [],
   "source": [
    "# process data\n",
    "test_vectors = embed(test['ecg'].values, 20)"
   ]
  },
  {
   "cell_type": "code",
   "execution_count": 8,
   "metadata": {},
   "outputs": [],
   "source": [
    "# calculate anomaly\n",
    "d_test = model.kneighbors(test_vectors)[0]\n",
    "mx = pd.read_csv('../data/knn_distance_max.csv', header=None, names=['max'])\n",
    "knn_anomaly = d_test.flatten() / mx['max'][0]"
   ]
  },
  {
   "cell_type": "markdown",
   "metadata": {},
   "source": [
    "### Animation"
   ]
  },
  {
   "cell_type": "code",
   "execution_count": 9,
   "metadata": {
    "scrolled": false
   },
   "outputs": [
    {
     "data": {
      "image/png": "[encoded data removed]",
      "text/plain": [
       "<Figure size 864x576 with 2 Axes>"
      ]
     },
     "metadata": {
      "needs_background": "light"
     },
     "output_type": "display_data"
    }
   ],
   "source": [
    "# create subpolts\n",
    "fig, ax = plt.subplots(2, 1, figsize=(12, 8));\n",
    "\n",
    "# data for update the graph\n",
    "x_ax_0 = []\n",
    "y_ax_0 = []\n",
    "x_ax_1 = []\n",
    "y_ax_1 = []\n",
    "\n",
    "# line plot\n",
    "line1, = ax[0].plot([], [])\n",
    "line2, = ax[1].plot([], [])\n",
    "\n",
    "# set property\n",
    "ax[0].set_title('Real Time ECG')\n",
    "ax[0].set_ylim(-7, 7)\n",
    "ax[0].set_xlim(0, 6000)\n",
    "ax[0].set_ylabel('ECG')\n",
    "\n",
    "ax[1].set_title('Anomaly Scores');\n",
    "ax[1].set_ylim(0, 1)\n",
    "ax[1].set_xlim(0, 6000)\n",
    "ax[1].set_ylabel('Anomaly (max = 1)')\n",
    "\n",
    "ax[1].hlines(0.18, 0, len(test['ecg']), \"red\", linestyles='dashed', alpha=0.5)\n",
    "\n",
    "# update plot\n",
    "def plot(i):\n",
    "    \n",
    "    #update the data\n",
    "    x_ax_0.append([i])\n",
    "    y_ax_0.append(test['ecg'].values[i])\n",
    "    \n",
    "    line1.set_data(x_ax_0, y_ax_0)\n",
    "    \n",
    "    x_ax_1.append([i])\n",
    "    y_ax_1.append(knn_anomaly[i])\n",
    "    line2.set_data(x_ax_1, y_ax_1)\n",
    "    \n",
    "    # change background color if the data is over a threshold\n",
    "    if knn_anomaly[i] >= 0.18:\n",
    "        ax[0].patch.set_facecolor(color='red')\n",
    "        ax[0].patch.set_alpha(0.6)\n",
    "    else:\n",
    "        ax[0].patch.set_facecolor(color='white')\n",
    "    \n",
    "    return line1, line2\n",
    "\n",
    "# start animation\n",
    "ani = animation.FuncAnimation(fig, plot, frames=range(0, test.shape[0], 3), interval=1, blit=True, repeat=False)\n",
    "#ani.save('demo.gif', writer='pillow', fps=30)"
   ]
  },
  {
   "cell_type": "code",
   "execution_count": null,
   "metadata": {},
   "outputs": [],
   "source": []
  }
 ],
 "metadata": {
  "kernelspec": {
   "display_name": "Python 3",
   "language": "python",
   "name": "python3"
  },
  "language_info": {
   "codemirror_mode": {
    "name": "ipython",
    "version": 3
   },
   "file_extension": ".py",
   "mimetype": "text/x-python",
   "name": "python",
   "nbconvert_exporter": "python",
   "pygments_lexer": "ipython3",
   "version": "3.7.4"
  }
 },
 "nbformat": 4,
 "nbformat_minor": 2
}
